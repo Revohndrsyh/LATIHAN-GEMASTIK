{
  "nbformat": 4,
  "nbformat_minor": 0,
  "metadata": {
    "colab": {
      "provenance": []
    },
    "kernelspec": {
      "name": "python3",
      "display_name": "Python 3"
    },
    "language_info": {
      "name": "python"
    }
  },
  "cells": [
    {
      "cell_type": "markdown",
      "source": [
        "# import library"
      ],
      "metadata": {
        "id": "-ltdDr5NFu8v"
      }
    },
    {
      "cell_type": "code",
      "execution_count": 8,
      "metadata": {
        "id": "yHEbh6tZFQPK"
      },
      "outputs": [],
      "source": [
        "import pandas as pd\n",
        "import matplotlib.pyplot as plt\n",
        "import seaborn as sns\n",
        "from sklearn.model_selection import train_test_split\n",
        "from sklearn.ensemble import RandomForestClassifier\n",
        "from sklearn.metrics import accuracy_score, classification_report, confusion_matrix\n",
        "from sklearn.linear_model import LinearRegression\n",
        "from sklearn.metrics import mean_absolute_error, mean_squared_error, r2_score\n"
      ]
    },
    {
      "cell_type": "markdown",
      "source": [
        "# LOAD DATASET"
      ],
      "metadata": {
        "id": "AphGeE3tGG7s"
      }
    },
    {
      "cell_type": "code",
      "source": [
        "# Load dataset\n",
        "df = pd.read_csv('/content/Sleep_health_and_lifestyle_dataset.csv')"
      ],
      "metadata": {
        "id": "-lS5F_dNF_mB"
      },
      "execution_count": 2,
      "outputs": []
    },
    {
      "cell_type": "code",
      "source": [
        "# Melihat dimensi data\n",
        "print(\"Dimensi data:\", df.shape)\n",
        "\n",
        "# Menampilkan 5 baris pertama\n",
        "print(\"\\n5 baris pertama:\")\n",
        "print(df.head())"
      ],
      "metadata": {
        "colab": {
          "base_uri": "https://localhost:8080/"
        },
        "id": "_w43nr3PGQvX",
        "outputId": "9251ae1e-09f2-49b5-87fc-bd969ec68f74"
      },
      "execution_count": 3,
      "outputs": [
        {
          "output_type": "stream",
          "name": "stdout",
          "text": [
            "Dimensi data: (374, 13)\n",
            "\n",
            "5 baris pertama:\n",
            "   Person ID Gender  Age            Occupation  Sleep Duration  \\\n",
            "0          1   Male   27     Software Engineer             6.1   \n",
            "1          2   Male   28                Doctor             6.2   \n",
            "2          3   Male   28                Doctor             6.2   \n",
            "3          4   Male   28  Sales Representative             5.9   \n",
            "4          5   Male   28  Sales Representative             5.9   \n",
            "\n",
            "   Quality of Sleep  Physical Activity Level  Stress Level BMI Category  \\\n",
            "0                 6                       42             6   Overweight   \n",
            "1                 6                       60             8       Normal   \n",
            "2                 6                       60             8       Normal   \n",
            "3                 4                       30             8        Obese   \n",
            "4                 4                       30             8        Obese   \n",
            "\n",
            "  Blood Pressure  Heart Rate  Daily Steps Sleep Disorder  \n",
            "0         126/83          77         4200            NaN  \n",
            "1         125/80          75        10000            NaN  \n",
            "2         125/80          75        10000            NaN  \n",
            "3         140/90          85         3000    Sleep Apnea  \n",
            "4         140/90          85         3000    Sleep Apnea  \n"
          ]
        }
      ]
    },
    {
      "cell_type": "markdown",
      "source": [
        "# Hipotesis Awal\n",
        "Beberapa contoh hipotesis awal dari dataset kesehatan tidur dan gaya hidup:\n",
        "\n",
        "- Terdapat hubungan antara durasi tidur (Sleep Duration) dengan tingkat stres (Stress Level).\n",
        "\n",
        "- Gaya hidup (seperti konsumsi kafein, olahraga, penggunaan gadget sebelum tidur) memengaruhi kualitas tidur.\n",
        "\n",
        "- Faktor usia dan jenis kelamin memiliki pengaruh terhadap kualitas tidur."
      ],
      "metadata": {
        "id": "WFTUFq3hGaBl"
      }
    },
    {
      "cell_type": "markdown",
      "source": [
        "# EKSPLORASI DATA ANALISIS (EDA)"
      ],
      "metadata": {
        "id": "88areUdmGj4f"
      }
    },
    {
      "cell_type": "code",
      "source": [
        "# Info dataset (cek tipe data & missing values)\n",
        "print(\"\\nInfo dataset:\")\n",
        "print(df.info())\n",
        "\n",
        "# Statistik deskriptif\n",
        "print(\"\\nStatistik deskriptif:\")\n",
        "print(df.describe(include='all'))\n",
        "\n",
        "# Cek missing value\n",
        "print(\"\\nJumlah missing value per kolom:\")\n",
        "print(df.isnull().sum())\n",
        "\n",
        "# Cek duplikat\n",
        "print(\"\\nJumlah data duplikat:\", df.duplicated().sum())"
      ],
      "metadata": {
        "colab": {
          "base_uri": "https://localhost:8080/"
        },
        "id": "pJOW018XGWoI",
        "outputId": "9394663a-944b-4dbf-ebae-7fe70bdeb5c8"
      },
      "execution_count": 6,
      "outputs": [
        {
          "output_type": "stream",
          "name": "stdout",
          "text": [
            "\n",
            "Info dataset:\n",
            "<class 'pandas.core.frame.DataFrame'>\n",
            "RangeIndex: 374 entries, 0 to 373\n",
            "Data columns (total 13 columns):\n",
            " #   Column                   Non-Null Count  Dtype  \n",
            "---  ------                   --------------  -----  \n",
            " 0   Person ID                374 non-null    int64  \n",
            " 1   Gender                   374 non-null    object \n",
            " 2   Age                      374 non-null    int64  \n",
            " 3   Occupation               374 non-null    object \n",
            " 4   Sleep Duration           374 non-null    float64\n",
            " 5   Quality of Sleep         374 non-null    int64  \n",
            " 6   Physical Activity Level  374 non-null    int64  \n",
            " 7   Stress Level             374 non-null    int64  \n",
            " 8   BMI Category             374 non-null    object \n",
            " 9   Blood Pressure           374 non-null    object \n",
            " 10  Heart Rate               374 non-null    int64  \n",
            " 11  Daily Steps              374 non-null    int64  \n",
            " 12  Sleep Disorder           155 non-null    object \n",
            "dtypes: float64(1), int64(7), object(5)\n",
            "memory usage: 38.1+ KB\n",
            "None\n",
            "\n",
            "Statistik deskriptif:\n",
            "         Person ID Gender         Age Occupation  Sleep Duration  \\\n",
            "count   374.000000    374  374.000000        374      374.000000   \n",
            "unique         NaN      2         NaN         11             NaN   \n",
            "top            NaN   Male         NaN      Nurse             NaN   \n",
            "freq           NaN    189         NaN         73             NaN   \n",
            "mean    187.500000    NaN   42.184492        NaN        7.132086   \n",
            "std     108.108742    NaN    8.673133        NaN        0.795657   \n",
            "min       1.000000    NaN   27.000000        NaN        5.800000   \n",
            "25%      94.250000    NaN   35.250000        NaN        6.400000   \n",
            "50%     187.500000    NaN   43.000000        NaN        7.200000   \n",
            "75%     280.750000    NaN   50.000000        NaN        7.800000   \n",
            "max     374.000000    NaN   59.000000        NaN        8.500000   \n",
            "\n",
            "        Quality of Sleep  Physical Activity Level  Stress Level BMI Category  \\\n",
            "count         374.000000               374.000000    374.000000          374   \n",
            "unique               NaN                      NaN           NaN            4   \n",
            "top                  NaN                      NaN           NaN       Normal   \n",
            "freq                 NaN                      NaN           NaN          195   \n",
            "mean            7.312834                59.171123      5.385027          NaN   \n",
            "std             1.196956                20.830804      1.774526          NaN   \n",
            "min             4.000000                30.000000      3.000000          NaN   \n",
            "25%             6.000000                45.000000      4.000000          NaN   \n",
            "50%             7.000000                60.000000      5.000000          NaN   \n",
            "75%             8.000000                75.000000      7.000000          NaN   \n",
            "max             9.000000                90.000000      8.000000          NaN   \n",
            "\n",
            "       Blood Pressure  Heart Rate   Daily Steps Sleep Disorder  \n",
            "count             374  374.000000    374.000000            155  \n",
            "unique             25         NaN           NaN              2  \n",
            "top            130/85         NaN           NaN    Sleep Apnea  \n",
            "freq               99         NaN           NaN             78  \n",
            "mean              NaN   70.165775   6816.844920            NaN  \n",
            "std               NaN    4.135676   1617.915679            NaN  \n",
            "min               NaN   65.000000   3000.000000            NaN  \n",
            "25%               NaN   68.000000   5600.000000            NaN  \n",
            "50%               NaN   70.000000   7000.000000            NaN  \n",
            "75%               NaN   72.000000   8000.000000            NaN  \n",
            "max               NaN   86.000000  10000.000000            NaN  \n",
            "\n",
            "Jumlah missing value per kolom:\n",
            "Person ID                    0\n",
            "Gender                       0\n",
            "Age                          0\n",
            "Occupation                   0\n",
            "Sleep Duration               0\n",
            "Quality of Sleep             0\n",
            "Physical Activity Level      0\n",
            "Stress Level                 0\n",
            "BMI Category                 0\n",
            "Blood Pressure               0\n",
            "Heart Rate                   0\n",
            "Daily Steps                  0\n",
            "Sleep Disorder             219\n",
            "dtype: int64\n",
            "\n",
            "Jumlah data duplikat: 0\n"
          ]
        }
      ]
    },
    {
      "cell_type": "markdown",
      "source": [
        "# METRIK EVALUASI"
      ],
      "metadata": {
        "id": "mR3TK5H_H110"
      }
    },
    {
      "cell_type": "markdown",
      "source": [
        "## KLASIFIKASI"
      ],
      "metadata": {
        "id": "2uxFcJUJIA34"
      }
    },
    {
      "cell_type": "code",
      "source": [
        "# Asumsi 'Quality of Sleep' adalah kolom target (ubah sesuai kolom sebenarnya)\n",
        "# dan sudah diubah menjadi numerik jika perlu\n",
        "\n",
        "# Buat X dan y\n",
        "X = df.drop(['Quality of Sleep'], axis=1).select_dtypes(include=['int64', 'float64'])  # Hanya fitur numerik\n",
        "y = df['Quality of Sleep']\n",
        "\n",
        "# Bagi data\n",
        "X_train, X_test, y_train, y_test = train_test_split(X, y, test_size=0.2, random_state=42)\n",
        "\n",
        "# Model Random Forest (contoh)\n",
        "model = RandomForestClassifier()\n",
        "model.fit(X_train, y_train)\n",
        "y_pred = model.predict(X_test)\n",
        "\n",
        "# Metrik evaluasi\n",
        "print(\"Akurasi:\", accuracy_score(y_test, y_pred))\n",
        "print(\"\\nClassification Report:\\n\", classification_report(y_test, y_pred))\n",
        "print(\"\\nConfusion Matrix:\\n\", confusion_matrix(y_test, y_pred))"
      ],
      "metadata": {
        "colab": {
          "base_uri": "https://localhost:8080/"
        },
        "id": "BVYygPh8H3Gu",
        "outputId": "b4aebd96-97f7-454c-95ba-9ac8490560ba"
      },
      "execution_count": 7,
      "outputs": [
        {
          "output_type": "stream",
          "name": "stdout",
          "text": [
            "Akurasi: 0.9733333333333334\n",
            "\n",
            "Classification Report:\n",
            "               precision    recall  f1-score   support\n",
            "\n",
            "           4       1.00      1.00      1.00         2\n",
            "           5       1.00      1.00      1.00         1\n",
            "           6       1.00      1.00      1.00        26\n",
            "           7       1.00      0.88      0.93        16\n",
            "           8       0.90      1.00      0.95        18\n",
            "           9       1.00      1.00      1.00        12\n",
            "\n",
            "    accuracy                           0.97        75\n",
            "   macro avg       0.98      0.98      0.98        75\n",
            "weighted avg       0.98      0.97      0.97        75\n",
            "\n",
            "\n",
            "Confusion Matrix:\n",
            " [[ 2  0  0  0  0  0]\n",
            " [ 0  1  0  0  0  0]\n",
            " [ 0  0 26  0  0  0]\n",
            " [ 0  0  0 14  2  0]\n",
            " [ 0  0  0  0 18  0]\n",
            " [ 0  0  0  0  0 12]]\n"
          ]
        }
      ]
    },
    {
      "cell_type": "markdown",
      "source": [
        "## REGRESI"
      ],
      "metadata": {
        "id": "xqsvYim3IEU2"
      }
    },
    {
      "cell_type": "code",
      "source": [
        "# Target regresi\n",
        "X = df.drop(['Sleep Duration'], axis=1).select_dtypes(include=['int64', 'float64'])\n",
        "y = df['Sleep Duration']\n",
        "\n",
        "X_train, X_test, y_train, y_test = train_test_split(X, y, test_size=0.2, random_state=42)\n",
        "\n",
        "model = LinearRegression()\n",
        "model.fit(X_train, y_train)\n",
        "y_pred = model.predict(X_test)\n",
        "\n",
        "# Evaluasi regresi\n",
        "mae = mean_absolute_error(y_test, y_pred)\n",
        "mse = mean_squared_error(y_test, y_pred)\n",
        "rmse = mean_squared_error(y_test, y_pred)**0.5\n",
        "r2 = r2_score(y_test, y_pred)\n",
        "\n",
        "print(\"MAE:\", mae)\n",
        "print(\"MSE:\", mse)\n",
        "print(\"RMSE:\", rmse)\n",
        "print(\"R2 Score:\", r2)"
      ],
      "metadata": {
        "colab": {
          "base_uri": "https://localhost:8080/"
        },
        "id": "NMjPFO4vH4kK",
        "outputId": "4d7ce321-5cc1-4bfc-9198-1eaee2e5a7db"
      },
      "execution_count": 10,
      "outputs": [
        {
          "output_type": "stream",
          "name": "stdout",
          "text": [
            "MAE: 0.2921912629168277\n",
            "MSE: 0.12416492681871989\n",
            "RMSE: 0.35237043976292887\n",
            "R2 Score: 0.8135019564013235\n"
          ]
        }
      ]
    }
  ]
}